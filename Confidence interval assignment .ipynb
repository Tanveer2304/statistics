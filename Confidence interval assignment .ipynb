{
 "cells": [
  {
   "cell_type": "code",
   "execution_count": 12,
   "id": "df4ac7d4",
   "metadata": {},
   "outputs": [],
   "source": [
    "import numpy as np\n",
    "import scipy.stats as stats\n",
    "from scipy.stats import t\n",
    "import matplotlib.pyplot as plt"
   ]
  },
  {
   "cell_type": "markdown",
   "id": "0f4a5912",
   "metadata": {},
   "source": [
    "# a. Build 99% Confidence Interval Using Sample Standard Deviation"
   ]
  },
  {
   "cell_type": "code",
   "execution_count": 41,
   "id": "d8bf8232",
   "metadata": {},
   "outputs": [
    {
     "name": "stdout",
     "output_type": "stream",
     "text": [
      "Confidence interval using sample standard deviation: \n",
      " Confidence Interval : (1.090197338451367, 1.3871359948819662)\n"
     ]
    }
   ],
   "source": [
    "sample_size = np.array([1.13, 1.55, 1.43, 0.92, 1.25, 1.36, 1.32, 0.85, 1.07, 1.48, 1.20, 1.33, 1.18, 1.22, 1.29])\n",
    "confidence_level = 99\n",
    "\n",
    "mean =np.mean(sample_size) \n",
    "\n",
    "sample_std = np.std(sample_size, ddof=1)\n",
    "\n",
    "sample_len = len(sample_size)\n",
    "\n",
    "t_score = t.ppf((1+confidence_level/100)/2, df=sample_len -1)\n",
    "\n",
    "\n",
    "#Margin of Error = t-score * (sample standard deviation / sqrt(sample size)).\n",
    "\n",
    "margin_of_error = t_score * ( sample_std /np.sqrt(sample_len))\n",
    "\n",
    "confidence_interval_T = (mean - margin_of_error , mean + margin_of_error)\n",
    "\n",
    "print(\"Confidence interval using sample standard deviation: \")\n",
    "print(\" Confidence Interval :\", confidence_interval_T)\n",
    "\n",
    "\n",
    "\n"
   ]
  },
  {
   "cell_type": "markdown",
   "id": "39ab147c",
   "metadata": {},
   "source": [
    "# b. Build 99% Confidence Interval Using Known Population Standard Deviation"
   ]
  },
  {
   "cell_type": "code",
   "execution_count": 57,
   "id": "1343b4ac",
   "metadata": {},
   "outputs": [
    {
     "name": "stdout",
     "output_type": "stream",
     "text": [
      "Confidence interval using population standard deviation\n",
      "Confidence interval: (1.1056514133957607, 1.3716819199375725)\n"
     ]
    }
   ],
   "source": [
    "sample_size = np.array([1.13, 1.55, 1.43, 0.92, 1.25, 1.36, 1.32, 0.85, 1.07, 1.48, 1.20, 1.33, 1.18, 1.22, 1.29])\n",
    "confidence_level = 99\n",
    "known_std = 0.2\n",
    "\n",
    "mean = np.mean(sample_size)\n",
    "\n",
    "critical_value = stats.norm.ppf((1 + confidence_level / 100) / 2)\n",
    "\n",
    "margin_of_errors = critical_value * (known_std/np.sqrt(sample_len))\n",
    "\n",
    "confidence_interval = (mean - margin_of_errors , mean + margin_of_errors)\n",
    "confidence_interval\n",
    "\n",
    "print(\"Confidence interval using population standard deviation\")\n",
    "print('Confidence interval:', confidence_interval)"
   ]
  },
  {
   "cell_type": "code",
   "execution_count": null,
   "id": "7d5422e1",
   "metadata": {},
   "outputs": [],
   "source": []
  }
 ],
 "metadata": {
  "kernelspec": {
   "display_name": "Python 3 (ipykernel)",
   "language": "python",
   "name": "python3"
  },
  "language_info": {
   "codemirror_mode": {
    "name": "ipython",
    "version": 3
   },
   "file_extension": ".py",
   "mimetype": "text/x-python",
   "name": "python",
   "nbconvert_exporter": "python",
   "pygments_lexer": "ipython3",
   "version": "3.11.5"
  }
 },
 "nbformat": 4,
 "nbformat_minor": 5
}
